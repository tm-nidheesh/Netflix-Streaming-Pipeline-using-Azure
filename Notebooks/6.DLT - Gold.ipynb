{
 "cells": [
  {
   "cell_type": "code",
   "execution_count": 0,
   "metadata": {
    "application/vnd.databricks.v1+cell": {
     "cellMetadata": {},
     "inputWidgets": {},
     "nuid": "53fb8e8f-3d14-4143-b45e-13f01e3db58c",
     "showTitle": false,
     "tableResultSettingsMap": {},
     "title": ""
    }
   },
   "outputs": [],
   "source": [
    "from pyspark.sql.functions import *\n",
    "from pyspark.sql.types import *"
   ]
  },
  {
   "cell_type": "markdown",
   "metadata": {
    "application/vnd.databricks.v1+cell": {
     "cellMetadata": {},
     "inputWidgets": {},
     "nuid": "01384aab-7e56-4c0e-91ee-808c13a87297",
     "showTitle": false,
     "tableResultSettingsMap": {},
     "title": ""
    }
   },
   "source": [
    "### Exceptions for data quality checks"
   ]
  },
  {
   "cell_type": "code",
   "execution_count": 0,
   "metadata": {
    "application/vnd.databricks.v1+cell": {
     "cellMetadata": {},
     "inputWidgets": {},
     "nuid": "05ae1291-e059-42da-81b0-6deb0d2d6855",
     "showTitle": false,
     "tableResultSettingsMap": {},
     "title": ""
    }
   },
   "outputs": [],
   "source": [
    "looktable_rules = {\n",
    "    \"rule_1\": \"showid is NOT NULL\"\n",
    "}"
   ]
  },
  {
   "cell_type": "markdown",
   "metadata": {
    "application/vnd.databricks.v1+cell": {
     "cellMetadata": {},
     "inputWidgets": {},
     "nuid": "a2f058f7-6b20-4910-a236-fe88e7adfd7d",
     "showTitle": false,
     "tableResultSettingsMap": {},
     "title": ""
    }
   },
   "source": [
    "Read streaming data from the Silver layer (Delta table of Netflix directors)"
   ]
  },
  {
   "cell_type": "code",
   "execution_count": 0,
   "metadata": {
    "application/vnd.databricks.v1+cell": {
     "cellMetadata": {},
     "inputWidgets": {},
     "nuid": "e51a3fa9-1017-44ed-94fd-fa7f8485fc24",
     "showTitle": false,
     "tableResultSettingsMap": {},
     "title": ""
    }
   },
   "outputs": [],
   "source": [
    "@dlt.table(\n",
    "    name= \"netflix_goldDirectors\"\n",
    ")\n",
    "@dlt.expect_all_or_drop(looktable_rules)\n",
    "def myfunct():\n",
    "    df = spark.readStream.format(\"delta\").load(\"abfss://silver@netflixdatastorage.dfs.core.windows.net/netflix_directors\")\n",
    "    return df"
   ]
  },
  {
   "cell_type": "markdown",
   "metadata": {
    "application/vnd.databricks.v1+cell": {
     "cellMetadata": {},
     "inputWidgets": {},
     "nuid": "b7fc81f2-0611-4979-8d3e-d7f16a270783",
     "showTitle": false,
     "tableResultSettingsMap": {},
     "title": ""
    }
   },
   "source": [
    "Read streaming data from the Silver layer (Delta table of Netflix cast)"
   ]
  },
  {
   "cell_type": "code",
   "execution_count": 0,
   "metadata": {
    "application/vnd.databricks.v1+cell": {
     "cellMetadata": {},
     "inputWidgets": {},
     "nuid": "7cf7ead4-76a7-46aa-b1f9-8283260ee884",
     "showTitle": false,
     "tableResultSettingsMap": {},
     "title": ""
    }
   },
   "outputs": [],
   "source": [
    "@dlt.table(\n",
    "    name= \"netflix_goldCast\"\n",
    ")\n",
    "@dlt.expect_all_or_drop(looktable_rules)\n",
    "def myfunct():\n",
    "    df = spark.readStream.format(\"delta\").load(\"abfss://silver@netflixdatastorage.dfs.core.windows.net/netflix_cast\")\n",
    "    return df"
   ]
  },
  {
   "cell_type": "markdown",
   "metadata": {
    "application/vnd.databricks.v1+cell": {
     "cellMetadata": {},
     "inputWidgets": {},
     "nuid": "edd0256a-f648-4108-8234-e83e72561706",
     "showTitle": false,
     "tableResultSettingsMap": {},
     "title": ""
    }
   },
   "source": [
    "Read streaming data from the Silver layer (Delta table of Netflix countries)"
   ]
  },
  {
   "cell_type": "code",
   "execution_count": 0,
   "metadata": {
    "application/vnd.databricks.v1+cell": {
     "cellMetadata": {},
     "inputWidgets": {},
     "nuid": "6f6803ef-3acc-413a-b11e-c21a61a8e80d",
     "showTitle": false,
     "tableResultSettingsMap": {},
     "title": ""
    }
   },
   "outputs": [],
   "source": [
    "@dlt.table(\n",
    "    name= \"netflix_goldCountries\"\n",
    ")\n",
    "@dlt.expect_all_or_drop(looktable_rules)\n",
    "def myfunct():\n",
    "    df = spark.readStream.format(\"delta\").load(\"abfss://silver@netflixdatastorage.dfs.core.windows.net/netflix_countries\")\n",
    "    return df"
   ]
  },
  {
   "cell_type": "markdown",
   "metadata": {
    "application/vnd.databricks.v1+cell": {
     "cellMetadata": {},
     "inputWidgets": {},
     "nuid": "0817cc52-4102-4706-9c38-0406a91159a7",
     "showTitle": false,
     "tableResultSettingsMap": {},
     "title": ""
    }
   },
   "source": [
    "Read streaming data from the Silver layer (Delta table of Netflix category)"
   ]
  },
  {
   "cell_type": "code",
   "execution_count": 0,
   "metadata": {
    "application/vnd.databricks.v1+cell": {
     "cellMetadata": {},
     "inputWidgets": {},
     "nuid": "2f3e7b1a-fab0-4fb8-a63d-28b68428f322",
     "showTitle": false,
     "tableResultSettingsMap": {},
     "title": ""
    }
   },
   "outputs": [],
   "source": [
    "@dlt.table(\n",
    "    name= \"netflix_goldCategory\"\n",
    ")\n",
    "@dlt.expect_all_or_drop(looktable_rules)\n",
    "def myfunct():\n",
    "    df = spark.readStream.format(\"delta\").load(\"abfss://silver@netflixdatastorage.dfs.core.windows.net/netflix_category\")\n",
    "    return df"
   ]
  },
  {
   "cell_type": "markdown",
   "metadata": {
    "application/vnd.databricks.v1+cell": {
     "cellMetadata": {},
     "inputWidgets": {},
     "nuid": "c97660d4-e2bd-4176-b46c-5b389e99fb77",
     "showTitle": false,
     "tableResultSettingsMap": {},
     "title": ""
    }
   },
   "source": [
    "Read streaming data from the Silver layer (Delta table of Netflix titles)"
   ]
  },
  {
   "cell_type": "code",
   "execution_count": 0,
   "metadata": {
    "application/vnd.databricks.v1+cell": {
     "cellMetadata": {},
     "inputWidgets": {},
     "nuid": "e7412ac1-ee64-4bb0-8ff5-d3ff6f717e25",
     "showTitle": false,
     "tableResultSettingsMap": {},
     "title": ""
    }
   },
   "outputs": [],
   "source": [
    "@dlt.table\n",
    "    \n",
    "def gold_stg_netflixtitles():\n",
    "    df = spark.readStream.format(\"delta\").load(\"abfss://silver@netflixdatastorage.dfs.core.windows.net/netflix_titles\")\n",
    "    return df"
   ]
  },
  {
   "cell_type": "markdown",
   "metadata": {
    "application/vnd.databricks.v1+cell": {
     "cellMetadata": {},
     "inputWidgets": {},
     "nuid": "40130804-0ed2-4b5d-8550-3e42e37de025",
     "showTitle": false,
     "tableResultSettingsMap": {},
     "title": ""
    }
   },
   "source": [
    "Creating view"
   ]
  },
  {
   "cell_type": "code",
   "execution_count": 0,
   "metadata": {
    "application/vnd.databricks.v1+cell": {
     "cellMetadata": {},
     "inputWidgets": {},
     "nuid": "22f7440a-e9bf-41d6-8f0c-7b5eacc7df0b",
     "showTitle": false,
     "tableResultSettingsMap": {},
     "title": ""
    }
   },
   "outputs": [],
   "source": [
    "@dlt.view\n",
    "\n",
    "def gold_trans_netflixtitles():\n",
    "    df = spark.readStream.table(\"LIVE.gold_stg_netflixtitles\")\n",
    "    df = df.withColumn(\"flag\",lit(1))\n",
    "    return df"
   ]
  },
  {
   "cell_type": "code",
   "execution_count": 0,
   "metadata": {
    "application/vnd.databricks.v1+cell": {
     "cellMetadata": {},
     "inputWidgets": {},
     "nuid": "80a7aca3-34d8-4872-a376-5dcc6445be4b",
     "showTitle": false,
     "tableResultSettingsMap": {},
     "title": ""
    }
   },
   "outputs": [],
   "source": [
    "masterdata_rule = {\n",
    "    \"rule_1\": \"flag is NOT NULL\",\n",
    "    \"rule_2\": \"showid is NOT NULL\"\n",
    "}"
   ]
  },
  {
   "cell_type": "code",
   "execution_count": 0,
   "metadata": {
    "application/vnd.databricks.v1+cell": {
     "cellMetadata": {},
     "inputWidgets": {},
     "nuid": "3333b426-f4a2-4fe0-89e8-aca2df7e8c7a",
     "showTitle": false,
     "tableResultSettingsMap": {},
     "title": ""
    }
   },
   "outputs": [],
   "source": [
    "@dlt.table\n",
    "@dlt.expect_all_or_drop(masterdata_rule)\n",
    "def gold_netflixtitles():\n",
    "    df = spark.readStream.table(\"LIVE.gold_trans_netflixtitles\")\n",
    "    return df"
   ]
  }
 ],
 "metadata": {
  "application/vnd.databricks.v1+notebook": {
   "computePreferences": null,
   "dashboards": [],
   "environmentMetadata": {
    "base_environment": "",
    "environment_version": "2"
   },
   "inputWidgetPreferences": null,
   "language": "python",
   "notebookMetadata": {
    "pythonIndentUnit": 4
   },
   "notebookName": "6.DLT - Gold",
   "widgets": {}
  },
  "language_info": {
   "name": "python"
  }
 },
 "nbformat": 4,
 "nbformat_minor": 0
}