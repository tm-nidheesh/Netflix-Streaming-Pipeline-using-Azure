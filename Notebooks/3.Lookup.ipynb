{
 "cells": [
  {
   "cell_type": "markdown",
   "metadata": {
    "application/vnd.databricks.v1+cell": {
     "cellMetadata": {},
     "inputWidgets": {},
     "nuid": "759bd908-8725-4916-8b0e-d73d67615f0e",
     "showTitle": false,
     "tableResultSettingsMap": {},
     "title": ""
    }
   },
   "source": [
    "Creating an Array parameter"
   ]
  },
  {
   "cell_type": "code",
   "execution_count": 0,
   "metadata": {
    "application/vnd.databricks.v1+cell": {
     "cellMetadata": {
      "byteLimit": 2048000,
      "rowLimit": 10000
     },
     "inputWidgets": {},
     "nuid": "3242e99d-f561-4dc7-be3a-0e21bd6c5812",
     "showTitle": false,
     "tableResultSettingsMap": {},
     "title": ""
    }
   },
   "outputs": [],
   "source": [
    "%python\n",
    "files = [\n",
    "  {\n",
    "    \"sourcefolder\" : \"netflix_directors\",\n",
    "    \"targetfolder\" : \"netflix_directors\"\n",
    "  },\n",
    "  {\n",
    "    \"sourcefolder\" : \"netflix_cast\",\n",
    "    \"targetfolder\" : \"netflix_cast\"\n",
    "  },\n",
    "  {\n",
    "    \"sourcefolder\" : \"netflix_category\",\n",
    "    \"targetfolder\" : \"netflix_category\"\n",
    "  },\n",
    "  {\n",
    "    \"sourcefolder\" : \"netflix_countries\",\n",
    "    \"targetfolder\" : \"netflix_countries\"}\n",
    "]"
   ]
  },
  {
   "cell_type": "markdown",
   "metadata": {
    "application/vnd.databricks.v1+cell": {
     "cellMetadata": {},
     "inputWidgets": {},
     "nuid": "37088939-287d-4ffd-89e1-90dd1e2981bf",
     "showTitle": false,
     "tableResultSettingsMap": {},
     "title": ""
    }
   },
   "source": [
    "### Job Utility to return Array"
   ]
  },
  {
   "cell_type": "code",
   "execution_count": 0,
   "metadata": {
    "application/vnd.databricks.v1+cell": {
     "cellMetadata": {
      "byteLimit": 2048000,
      "rowLimit": 10000
     },
     "inputWidgets": {},
     "nuid": "9d69dcc1-4b7b-48cb-9d4d-4ed120da92a8",
     "showTitle": false,
     "tableResultSettingsMap": {},
     "title": ""
    }
   },
   "outputs": [],
   "source": [
    "%python\n",
    "dbutils.jobs.taskValues.set(key = \"my_array\", value=files)"
   ]
  }
 ],
 "metadata": {
  "application/vnd.databricks.v1+notebook": {
   "computePreferences": null,
   "dashboards": [],
   "environmentMetadata": {
    "base_environment": "",
    "environment_version": "2"
   },
   "inputWidgetPreferences": null,
   "language": "sql",
   "notebookMetadata": {
    "pythonIndentUnit": 4
   },
   "notebookName": "3.Lookup",
   "widgets": {}
  },
  "language_info": {
   "name": "sql"
  }
 },
 "nbformat": 4,
 "nbformat_minor": 0
}